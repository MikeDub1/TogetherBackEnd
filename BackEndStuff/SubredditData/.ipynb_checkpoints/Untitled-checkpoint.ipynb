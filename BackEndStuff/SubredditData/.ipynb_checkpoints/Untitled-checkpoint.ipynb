{
 "cells": [
  {
   "cell_type": "markdown",
   "id": "expressed-fancy",
   "metadata": {},
   "source": [
    "# Welcome to my project!!!"
   ]
  },
  {
   "cell_type": "markdown",
   "id": "specified-airport",
   "metadata": {},
   "source": [
    "## Setup"
   ]
  },
  {
   "cell_type": "markdown",
   "id": "convinced-lawyer",
   "metadata": {},
   "source": [
    "Welcome to my test project! As you can see, We did it! After some long hours, I got this godforsaken VM to run! I need help..."
   ]
  },
  {
   "cell_type": "markdown",
   "id": "inappropriate-meaning",
   "metadata": {},
   "source": [
    "Testing out module imports..."
   ]
  },
  {
   "cell_type": "code",
   "execution_count": 5,
   "id": "golden-console",
   "metadata": {},
   "outputs": [],
   "source": [
    "import pandas\n",
    "import matplotlib as plt\n",
    "import seaborn as sns\n",
    "import sklearn\n",
    "import nltk\n",
    "from nltk.corpus import stopwords"
   ]
  },
  {
   "cell_type": "markdown",
   "id": "hired-summit",
   "metadata": {},
   "source": [
    "Ok! So that works! Now let's create some dataframes."
   ]
  },
  {
   "cell_type": "code",
   "execution_count": 10,
   "id": "surface-adelaide",
   "metadata": {},
   "outputs": [],
   "source": [
    "df = pandas.read_csv('books.csv')\n",
    "df2 = pandas.read_csv('Cooking.csv')\n",
    "df3 = pandas.read_csv('GYM.csv')"
   ]
  },
  {
   "cell_type": "markdown",
   "id": "certified-special",
   "metadata": {},
   "source": [
    "...and display them..."
   ]
  },
  {
   "cell_type": "code",
   "execution_count": 12,
   "id": "horizontal-active",
   "metadata": {},
   "outputs": [
    {
     "data": {
      "text/html": [
       "<div>\n",
       "<style scoped>\n",
       "    .dataframe tbody tr th:only-of-type {\n",
       "        vertical-align: middle;\n",
       "    }\n",
       "\n",
       "    .dataframe tbody tr th {\n",
       "        vertical-align: top;\n",
       "    }\n",
       "\n",
       "    .dataframe thead th {\n",
       "        text-align: right;\n",
       "    }\n",
       "</style>\n",
       "<table border=\"1\" class=\"dataframe\">\n",
       "  <thead>\n",
       "    <tr style=\"text-align: right;\">\n",
       "      <th></th>\n",
       "      <th>id</th>\n",
       "      <th>subreddit</th>\n",
       "      <th>body</th>\n",
       "    </tr>\n",
       "  </thead>\n",
       "  <tbody>\n",
       "    <tr>\n",
       "      <th>0</th>\n",
       "      <td>eyu2ec</td>\n",
       "      <td>GYM</td>\n",
       "      <td>NaN</td>\n",
       "    </tr>\n",
       "    <tr>\n",
       "      <th>1</th>\n",
       "      <td>fgvlsrc</td>\n",
       "      <td>GYM</td>\n",
       "      <td>thank help get start week</td>\n",
       "    </tr>\n",
       "    <tr>\n",
       "      <th>2</th>\n",
       "      <td>fjx7ami</td>\n",
       "      <td>GYM</td>\n",
       "      <td>look like good start good effort plan differen...</td>\n",
       "    </tr>\n",
       "    <tr>\n",
       "      <th>3</th>\n",
       "      <td>fjyy9a5</td>\n",
       "      <td>GYM</td>\n",
       "      <td>r fit fantast wiki https thefit wiki constant ...</td>\n",
       "    </tr>\n",
       "    <tr>\n",
       "      <th>4</th>\n",
       "      <td>lngehn</td>\n",
       "      <td>GYM</td>\n",
       "      <td>NaN</td>\n",
       "    </tr>\n",
       "  </tbody>\n",
       "</table>\n",
       "</div>"
      ],
      "text/plain": [
       "        id subreddit                                               body\n",
       "0   eyu2ec       GYM                                                NaN\n",
       "1  fgvlsrc       GYM                          thank help get start week\n",
       "2  fjx7ami       GYM  look like good start good effort plan differen...\n",
       "3  fjyy9a5       GYM  r fit fantast wiki https thefit wiki constant ...\n",
       "4   lngehn       GYM                                                NaN"
      ]
     },
     "execution_count": 12,
     "metadata": {},
     "output_type": "execute_result"
    }
   ],
   "source": [
    "df3.head()"
   ]
  },
  {
   "cell_type": "markdown",
   "id": "satellite-thailand",
   "metadata": {},
   "source": [
    "...and concatenate them..."
   ]
  },
  {
   "cell_type": "code",
   "execution_count": 14,
   "id": "orange-capability",
   "metadata": {},
   "outputs": [],
   "source": [
    "dfc = pandas.concat([df, df2, df3])"
   ]
  },
  {
   "cell_type": "markdown",
   "id": "documentary-segment",
   "metadata": {},
   "source": [
    "...and then display them again!"
   ]
  },
  {
   "cell_type": "code",
   "execution_count": 16,
   "id": "pleasant-domestic",
   "metadata": {},
   "outputs": [
    {
     "data": {
      "text/html": [
       "<div>\n",
       "<style scoped>\n",
       "    .dataframe tbody tr th:only-of-type {\n",
       "        vertical-align: middle;\n",
       "    }\n",
       "\n",
       "    .dataframe tbody tr th {\n",
       "        vertical-align: top;\n",
       "    }\n",
       "\n",
       "    .dataframe thead th {\n",
       "        text-align: right;\n",
       "    }\n",
       "</style>\n",
       "<table border=\"1\" class=\"dataframe\">\n",
       "  <thead>\n",
       "    <tr style=\"text-align: right;\">\n",
       "      <th></th>\n",
       "      <th>id</th>\n",
       "      <th>subreddit</th>\n",
       "      <th>body</th>\n",
       "    </tr>\n",
       "  </thead>\n",
       "  <tbody>\n",
       "    <tr>\n",
       "      <th>0</th>\n",
       "      <td>lnd8er</td>\n",
       "      <td>books</td>\n",
       "      <td>welcom week recommend thread year ago mod team...</td>\n",
       "    </tr>\n",
       "    <tr>\n",
       "      <th>1</th>\n",
       "      <td>go085ef</td>\n",
       "      <td>books</td>\n",
       "      <td>look hard scifi along line children time ruin ...</td>\n",
       "    </tr>\n",
       "    <tr>\n",
       "      <th>2</th>\n",
       "      <td>go161y9</td>\n",
       "      <td>books</td>\n",
       "      <td>im look book french e g author franc quebec af...</td>\n",
       "    </tr>\n",
       "    <tr>\n",
       "      <th>3</th>\n",
       "      <td>go1n30e</td>\n",
       "      <td>books</td>\n",
       "      <td>what best way start read terri pratchett initi...</td>\n",
       "    </tr>\n",
       "    <tr>\n",
       "      <th>4</th>\n",
       "      <td>go07411</td>\n",
       "      <td>books</td>\n",
       "      <td>recommend best queer book youv read pleas rece...</td>\n",
       "    </tr>\n",
       "    <tr>\n",
       "      <th>...</th>\n",
       "      <td>...</td>\n",
       "      <td>...</td>\n",
       "      <td>...</td>\n",
       "    </tr>\n",
       "    <tr>\n",
       "      <th>50</th>\n",
       "      <td>lnqbxs</td>\n",
       "      <td>GYM</td>\n",
       "      <td>NaN</td>\n",
       "    </tr>\n",
       "    <tr>\n",
       "      <th>51</th>\n",
       "      <td>lnq0jz</td>\n",
       "      <td>GYM</td>\n",
       "      <td>new gym scare back injuri tip hellllo f go gym...</td>\n",
       "    </tr>\n",
       "    <tr>\n",
       "      <th>52</th>\n",
       "      <td>go1r7gt</td>\n",
       "      <td>GYM</td>\n",
       "      <td>start light weight first get comfort form comf...</td>\n",
       "    </tr>\n",
       "    <tr>\n",
       "      <th>53</th>\n",
       "      <td>lnph9c</td>\n",
       "      <td>GYM</td>\n",
       "      <td>im start lift year ago quit late know im cm re...</td>\n",
       "    </tr>\n",
       "    <tr>\n",
       "      <th>54</th>\n",
       "      <td>go1oq2m</td>\n",
       "      <td>GYM</td>\n",
       "      <td>bf doesnt seem high go cut suggest would go bu...</td>\n",
       "    </tr>\n",
       "  </tbody>\n",
       "</table>\n",
       "<p>2541 rows × 3 columns</p>\n",
       "</div>"
      ],
      "text/plain": [
       "         id subreddit                                               body\n",
       "0    lnd8er     books  welcom week recommend thread year ago mod team...\n",
       "1   go085ef     books  look hard scifi along line children time ruin ...\n",
       "2   go161y9     books  im look book french e g author franc quebec af...\n",
       "3   go1n30e     books  what best way start read terri pratchett initi...\n",
       "4   go07411     books  recommend best queer book youv read pleas rece...\n",
       "..      ...       ...                                                ...\n",
       "50   lnqbxs       GYM                                                NaN\n",
       "51   lnq0jz       GYM  new gym scare back injuri tip hellllo f go gym...\n",
       "52  go1r7gt       GYM  start light weight first get comfort form comf...\n",
       "53   lnph9c       GYM  im start lift year ago quit late know im cm re...\n",
       "54  go1oq2m       GYM  bf doesnt seem high go cut suggest would go bu...\n",
       "\n",
       "[2541 rows x 3 columns]"
      ]
     },
     "execution_count": 16,
     "metadata": {},
     "output_type": "execute_result"
    }
   ],
   "source": [
    "dfc"
   ]
  },
  {
   "cell_type": "code",
   "execution_count": 17,
   "id": "vertical-wrong",
   "metadata": {},
   "outputs": [
    {
     "name": "stdout",
     "output_type": "stream",
     "text": [
      "         id subreddit                                               body\n",
      "0    lnd8er     books  welcom week recommend thread year ago mod team...\n",
      "1   go085ef     books  look hard scifi along line children time ruin ...\n",
      "2   go161y9     books  im look book french e g author franc quebec af...\n",
      "3   go1n30e     books  what best way start read terri pratchett initi...\n",
      "4   go07411     books  recommend best queer book youv read pleas rece...\n",
      "..      ...       ...                                                ...\n",
      "50   lnqbxs       GYM                                                NaN\n",
      "51   lnq0jz       GYM  new gym scare back injuri tip hellllo f go gym...\n",
      "52  go1r7gt       GYM  start light weight first get comfort form comf...\n",
      "53   lnph9c       GYM  im start lift year ago quit late know im cm re...\n",
      "54  go1oq2m       GYM  bf doesnt seem high go cut suggest would go bu...\n",
      "\n",
      "[2541 rows x 3 columns]\n"
     ]
    }
   ],
   "source": [
    "print(dfc)"
   ]
  },
  {
   "cell_type": "code",
   "execution_count": null,
   "id": "quiet-deputy",
   "metadata": {},
   "outputs": [],
   "source": []
  }
 ],
 "metadata": {
  "kernelspec": {
   "display_name": "Python 3",
   "language": "python",
   "name": "python3"
  },
  "language_info": {
   "codemirror_mode": {
    "name": "ipython",
    "version": 3
   },
   "file_extension": ".py",
   "mimetype": "text/x-python",
   "name": "python",
   "nbconvert_exporter": "python",
   "pygments_lexer": "ipython3",
   "version": "3.6.9"
  }
 },
 "nbformat": 4,
 "nbformat_minor": 5
}
