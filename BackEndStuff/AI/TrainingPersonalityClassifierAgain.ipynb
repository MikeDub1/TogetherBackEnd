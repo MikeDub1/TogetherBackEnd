{
 "cells": [
  {
   "cell_type": "code",
   "execution_count": 1,
   "id": "impossible-conviction",
   "metadata": {},
   "outputs": [],
   "source": [
    "import pandas as pd\n",
    "import numpy as np\n",
    "import h5py\n",
    "\n",
    "from sklearn.feature_extraction.text import TfidfVectorizer\n",
    "from sklearn.model_selection import train_test_split\n",
    "from sklearn.ensemble import GradientBoostingClassifier as gbc\n",
    "from sklearn.model_selection import GridSearchCV\n"
   ]
  },
  {
   "cell_type": "code",
   "execution_count": 2,
   "id": "professional-prison",
   "metadata": {
    "scrolled": false
   },
   "outputs": [
    {
     "data": {
      "text/html": [
       "<div>\n",
       "<style scoped>\n",
       "    .dataframe tbody tr th:only-of-type {\n",
       "        vertical-align: middle;\n",
       "    }\n",
       "\n",
       "    .dataframe tbody tr th {\n",
       "        vertical-align: top;\n",
       "    }\n",
       "\n",
       "    .dataframe thead th {\n",
       "        text-align: right;\n",
       "    }\n",
       "</style>\n",
       "<table border=\"1\" class=\"dataframe\">\n",
       "  <thead>\n",
       "    <tr style=\"text-align: right;\">\n",
       "      <th></th>\n",
       "      <th>Unnamed: 0</th>\n",
       "      <th>Unnamed: 0.1</th>\n",
       "      <th>type</th>\n",
       "      <th>posts</th>\n",
       "    </tr>\n",
       "  </thead>\n",
       "  <tbody>\n",
       "    <tr>\n",
       "      <th>0</th>\n",
       "      <td>2433</td>\n",
       "      <td>775</td>\n",
       "      <td>ENFJ</td>\n",
       "      <td>Honestly that doesnt help me at all The only p...</td>\n",
       "    </tr>\n",
       "    <tr>\n",
       "      <th>1</th>\n",
       "      <td>4418</td>\n",
       "      <td>4229</td>\n",
       "      <td>ESTP</td>\n",
       "      <td>Ive actually think that once IQ do seem to be ...</td>\n",
       "    </tr>\n",
       "    <tr>\n",
       "      <th>2</th>\n",
       "      <td>159</td>\n",
       "      <td>3173</td>\n",
       "      <td>INFJ</td>\n",
       "      <td>https www youtube com watchv POAt jbh Z https ...</td>\n",
       "    </tr>\n",
       "    <tr>\n",
       "      <th>3</th>\n",
       "      <td>302</td>\n",
       "      <td>6191</td>\n",
       "      <td>INFP</td>\n",
       "      <td>my childhood be happy and fill with friends as...</td>\n",
       "    </tr>\n",
       "    <tr>\n",
       "      <th>4</th>\n",
       "      <td>2061</td>\n",
       "      <td>2629</td>\n",
       "      <td>INTP</td>\n",
       "      <td>Hmm I think Im quite easy to become friends wi...</td>\n",
       "    </tr>\n",
       "    <tr>\n",
       "      <th>...</th>\n",
       "      <td>...</td>\n",
       "      <td>...</td>\n",
       "      <td>...</td>\n",
       "      <td>...</td>\n",
       "    </tr>\n",
       "    <tr>\n",
       "      <th>4795</th>\n",
       "      <td>1729</td>\n",
       "      <td>7023</td>\n",
       "      <td>ISFJ</td>\n",
       "      <td>I cant relate to BBCs Sherlock but I can somew...</td>\n",
       "    </tr>\n",
       "    <tr>\n",
       "      <th>4796</th>\n",
       "      <td>2953</td>\n",
       "      <td>6078</td>\n",
       "      <td>ENFP</td>\n",
       "      <td>i always get call naive i want people to not t...</td>\n",
       "    </tr>\n",
       "    <tr>\n",
       "      <th>4797</th>\n",
       "      <td>3812</td>\n",
       "      <td>7366</td>\n",
       "      <td>ESFP</td>\n",
       "      <td>Crazy stuff I know Lets just say I do not acti...</td>\n",
       "    </tr>\n",
       "    <tr>\n",
       "      <th>4798</th>\n",
       "      <td>2280</td>\n",
       "      <td>6561</td>\n",
       "      <td>ISTJ</td>\n",
       "      <td>The similar joke be due to the character be wr...</td>\n",
       "    </tr>\n",
       "    <tr>\n",
       "      <th>4799</th>\n",
       "      <td>3563</td>\n",
       "      <td>2109</td>\n",
       "      <td>ENTP</td>\n",
       "      <td>I have always have a deep love for nature One ...</td>\n",
       "    </tr>\n",
       "  </tbody>\n",
       "</table>\n",
       "<p>4800 rows × 4 columns</p>\n",
       "</div>"
      ],
      "text/plain": [
       "      Unnamed: 0  Unnamed: 0.1  type  \\\n",
       "0           2433           775  ENFJ   \n",
       "1           4418          4229  ESTP   \n",
       "2            159          3173  INFJ   \n",
       "3            302          6191  INFP   \n",
       "4           2061          2629  INTP   \n",
       "...          ...           ...   ...   \n",
       "4795        1729          7023  ISFJ   \n",
       "4796        2953          6078  ENFP   \n",
       "4797        3812          7366  ESFP   \n",
       "4798        2280          6561  ISTJ   \n",
       "4799        3563          2109  ENTP   \n",
       "\n",
       "                                                  posts  \n",
       "0     Honestly that doesnt help me at all The only p...  \n",
       "1     Ive actually think that once IQ do seem to be ...  \n",
       "2     https www youtube com watchv POAt jbh Z https ...  \n",
       "3     my childhood be happy and fill with friends as...  \n",
       "4     Hmm I think Im quite easy to become friends wi...  \n",
       "...                                                 ...  \n",
       "4795  I cant relate to BBCs Sherlock but I can somew...  \n",
       "4796  i always get call naive i want people to not t...  \n",
       "4797  Crazy stuff I know Lets just say I do not acti...  \n",
       "4798  The similar joke be due to the character be wr...  \n",
       "4799  I have always have a deep love for nature One ...  \n",
       "\n",
       "[4800 rows x 4 columns]"
      ]
     },
     "execution_count": 2,
     "metadata": {},
     "output_type": "execute_result"
    }
   ],
   "source": [
    "df = pd.read_csv('DfFinal.csv')\n",
    "df = df.sample(frac=1).reset_index(drop=True)\n",
    "df"
   ]
  },
  {
   "cell_type": "code",
   "execution_count": 3,
   "id": "external-colors",
   "metadata": {
    "scrolled": false
   },
   "outputs": [
    {
     "data": {
      "text/html": [
       "<div>\n",
       "<style scoped>\n",
       "    .dataframe tbody tr th:only-of-type {\n",
       "        vertical-align: middle;\n",
       "    }\n",
       "\n",
       "    .dataframe tbody tr th {\n",
       "        vertical-align: top;\n",
       "    }\n",
       "\n",
       "    .dataframe thead th {\n",
       "        text-align: right;\n",
       "    }\n",
       "</style>\n",
       "<table border=\"1\" class=\"dataframe\">\n",
       "  <thead>\n",
       "    <tr style=\"text-align: right;\">\n",
       "      <th></th>\n",
       "      <th>type</th>\n",
       "      <th>posts</th>\n",
       "    </tr>\n",
       "  </thead>\n",
       "  <tbody>\n",
       "    <tr>\n",
       "      <th>0</th>\n",
       "      <td>ENFJ</td>\n",
       "      <td>Honestly that doesnt help me at all The only p...</td>\n",
       "    </tr>\n",
       "    <tr>\n",
       "      <th>1</th>\n",
       "      <td>ESTP</td>\n",
       "      <td>Ive actually think that once IQ do seem to be ...</td>\n",
       "    </tr>\n",
       "    <tr>\n",
       "      <th>2</th>\n",
       "      <td>INFJ</td>\n",
       "      <td>https www youtube com watchv POAt jbh Z https ...</td>\n",
       "    </tr>\n",
       "    <tr>\n",
       "      <th>3</th>\n",
       "      <td>INFP</td>\n",
       "      <td>my childhood be happy and fill with friends as...</td>\n",
       "    </tr>\n",
       "    <tr>\n",
       "      <th>4</th>\n",
       "      <td>INTP</td>\n",
       "      <td>Hmm I think Im quite easy to become friends wi...</td>\n",
       "    </tr>\n",
       "    <tr>\n",
       "      <th>...</th>\n",
       "      <td>...</td>\n",
       "      <td>...</td>\n",
       "    </tr>\n",
       "    <tr>\n",
       "      <th>4795</th>\n",
       "      <td>ISFJ</td>\n",
       "      <td>I cant relate to BBCs Sherlock but I can somew...</td>\n",
       "    </tr>\n",
       "    <tr>\n",
       "      <th>4796</th>\n",
       "      <td>ENFP</td>\n",
       "      <td>i always get call naive i want people to not t...</td>\n",
       "    </tr>\n",
       "    <tr>\n",
       "      <th>4797</th>\n",
       "      <td>ESFP</td>\n",
       "      <td>Crazy stuff I know Lets just say I do not acti...</td>\n",
       "    </tr>\n",
       "    <tr>\n",
       "      <th>4798</th>\n",
       "      <td>ISTJ</td>\n",
       "      <td>The similar joke be due to the character be wr...</td>\n",
       "    </tr>\n",
       "    <tr>\n",
       "      <th>4799</th>\n",
       "      <td>ENTP</td>\n",
       "      <td>I have always have a deep love for nature One ...</td>\n",
       "    </tr>\n",
       "  </tbody>\n",
       "</table>\n",
       "<p>4800 rows × 2 columns</p>\n",
       "</div>"
      ],
      "text/plain": [
       "      type                                              posts\n",
       "0     ENFJ  Honestly that doesnt help me at all The only p...\n",
       "1     ESTP  Ive actually think that once IQ do seem to be ...\n",
       "2     INFJ  https www youtube com watchv POAt jbh Z https ...\n",
       "3     INFP  my childhood be happy and fill with friends as...\n",
       "4     INTP  Hmm I think Im quite easy to become friends wi...\n",
       "...    ...                                                ...\n",
       "4795  ISFJ  I cant relate to BBCs Sherlock but I can somew...\n",
       "4796  ENFP  i always get call naive i want people to not t...\n",
       "4797  ESFP  Crazy stuff I know Lets just say I do not acti...\n",
       "4798  ISTJ  The similar joke be due to the character be wr...\n",
       "4799  ENTP  I have always have a deep love for nature One ...\n",
       "\n",
       "[4800 rows x 2 columns]"
      ]
     },
     "execution_count": 3,
     "metadata": {},
     "output_type": "execute_result"
    }
   ],
   "source": [
    "df = df.drop(columns=['Unnamed: 0.1', 'Unnamed: 0'])\n",
    "df"
   ]
  },
  {
   "cell_type": "code",
   "execution_count": 4,
   "id": "first-wesley",
   "metadata": {},
   "outputs": [],
   "source": [
    "from sklearn.preprocessing import LabelEncoder\n",
    "\n",
    "le = LabelEncoder()\n",
    "y_enc = le.fit_transform(df['type'])"
   ]
  },
  {
   "cell_type": "code",
   "execution_count": 5,
   "id": "placed-speed",
   "metadata": {},
   "outputs": [],
   "source": [
    "cv = TfidfVectorizer()\n",
    "X = cv.fit_transform(df.posts).toarray()"
   ]
  },
  {
   "cell_type": "code",
   "execution_count": 8,
   "id": "massive-upper",
   "metadata": {
    "scrolled": true
   },
   "outputs": [],
   "source": [
    "\n",
    "del df\n",
    "#X= df.posts\n",
    "\n",
    "X_ids = list(range(len(X)))\n",
    "\n",
    "X_tr_ids, X_te_ids, y_tr, y_te = train_test_split(X_ids, y_enc, test_size=0.3)\n",
    "\n",
    "f = h5py.File('train.h5py', 'w')\n",
    "f.create_dataset(f\"inputs\", data=X[X_tr_ids], dtype=np.int)\n",
    "f.create_dataset(f\"labels\", data=y_tr, dtype=np.int)\n",
    "f.close()\n",
    "\n",
    "f = h5py.File('test.h5py', 'w')\n",
    "f.create_dataset(f\"inputs\", data=X[X_te_ids], dtype=np.int)\n",
    "f.create_dataset(f\"labels\", data=y_te, dtype=np.int)\n",
    "f.close()\n",
    "\n"
   ]
  },
  {
   "cell_type": "code",
   "execution_count": null,
   "id": "flush-depth",
   "metadata": {},
   "outputs": [],
   "source": [
    "pip install h5py"
   ]
  },
  {
   "cell_type": "code",
   "execution_count": 6,
   "id": "supposed-disposal",
   "metadata": {},
   "outputs": [
    {
     "name": "stdout",
     "output_type": "stream",
     "text": [
      "[0. 0. 0. ... 0. 0. 0.]\n"
     ]
    }
   ],
   "source": [
    "print(X[22])"
   ]
  },
  {
   "cell_type": "code",
   "execution_count": 10,
   "id": "prostate-criticism",
   "metadata": {
    "scrolled": false
   },
   "outputs": [
    {
     "data": {
      "text/plain": [
       "array([10,  0, 13, ...,  6, 12,  8])"
      ]
     },
     "execution_count": 10,
     "metadata": {},
     "output_type": "execute_result"
    }
   ],
   "source": [
    "\n",
    "f = h5py.File('train.h5py', 'r')\n",
    "X_train = np.array(f.get('inputs'), dtype=np.int)\n",
    "Y_train = np.array(f.get('labels'), dtype=np.int)\n",
    "f.close()\n",
    "\n",
    "f = h5py.File('test.h5py', 'r')\n",
    "X_test = np.array(f.get('inputs'), dtype=np.int)\n",
    "Y_test = np.array(f.get('labels'), dtype=np.int)\n",
    "f.close()\n",
    "\n",
    "Y_test\n"
   ]
  },
  {
   "cell_type": "code",
   "execution_count": null,
   "id": "allied-legislation",
   "metadata": {},
   "outputs": [
    {
     "name": "stdout",
     "output_type": "stream",
     "text": [
      "Fitting 2 folds for each of 60 candidates, totalling 120 fits\n",
      "[CV 1/2; 1/60] START activation=logistic, alpha=0.01, learning_rate=constant....\n",
      "[CV 1/2; 1/60] END activation=logistic, alpha=0.01, learning_rate=constant; total time= 4.8min\n",
      "[CV 2/2; 1/60] START activation=logistic, alpha=0.01, learning_rate=constant....\n",
      "[CV 2/2; 1/60] END activation=logistic, alpha=0.01, learning_rate=constant; total time= 4.8min\n",
      "[CV 1/2; 2/60] START activation=logistic, alpha=0.01, learning_rate=invscaling..\n",
      "[CV 1/2; 2/60] END activation=logistic, alpha=0.01, learning_rate=invscaling; total time= 4.2min\n",
      "[CV 2/2; 2/60] START activation=logistic, alpha=0.01, learning_rate=invscaling..\n"
     ]
    }
   ],
   "source": [
    "#MLP classifier\n",
    "from sklearn.neural_network import MLPClassifier\n",
    "MLPCLF=MLPClassifier()\n",
    "parameters={\n",
    "    'alpha': [.01,.001,1,10,0.1],\n",
    "    'activation': [\"logistic\", \"relu\",'tanh','identity'],\n",
    "    'learning_rate' :['constant', 'invscaling', 'adaptive'],\n",
    "    }\n",
    "mlp_grid=GridSearchCV(MLPCLF,param_grid=parameters,verbose=10,scoring='accuracy',cv=2)\n",
    "mlp_grid.fit(X_train,Y_train)\n",
    "\n",
    "import pickle\n",
    "\n",
    "with open('SAVE_GRIDSEARCH.obj', 'wb') as save_my_ass:\n",
    "    pickle.dump(clf, save_my_ass)\n"
   ]
  },
  {
   "cell_type": "code",
   "execution_count": null,
   "id": "deluxe-moore",
   "metadata": {},
   "outputs": [],
   "source": [
    "#Remove the ipykernel using conda remove ipykernel\n",
    "#and then resinstall with lower version with pip install ipykernel ==4.2.2"
   ]
  }
 ],
 "metadata": {
  "kernelspec": {
   "display_name": "Python 3",
   "language": "python",
   "name": "python3"
  },
  "language_info": {
   "codemirror_mode": {
    "name": "ipython",
    "version": 3
   },
   "file_extension": ".py",
   "mimetype": "text/x-python",
   "name": "python",
   "nbconvert_exporter": "python",
   "pygments_lexer": "ipython3",
   "version": "3.6.9"
  }
 },
 "nbformat": 4,
 "nbformat_minor": 5
}
